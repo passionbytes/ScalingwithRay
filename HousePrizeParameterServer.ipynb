{
 "cells": [
  {
   "cell_type": "code",
   "execution_count": 1,
   "metadata": {},
   "outputs": [],
   "source": [
    "import numpy as np\n",
    "import ray\n",
    "\n",
    "@ray.remote\n",
    "class HousingPricesParameterServer(object):\n",
    "    def __init__(self, keys, values):\n",
    "        #values = [value.copy() for value in values]\n",
    "        self.weights = dict(zip(keys, values))\n",
    "\n",
    "    def push(self, keys, values):\n",
    "        for key, value in zip(keys, values):\n",
    "            self.weights[key] += value\n",
    "\n",
    "    def pull(self, keys):\n",
    "        return [self.weights[key] for key in keys]"
   ]
  },
  {
   "cell_type": "code",
   "execution_count": 2,
   "metadata": {},
   "outputs": [],
   "source": [
    "@ray.remote\n",
    "class Worker(object):\n",
    "    def __init__(self, weight_shard: np.ndarray, keys, values, config):\n",
    "        self.params = weight_shard.copy()\n",
    "        self.config = config\n",
    "        self.keys = keys\n",
    "        self.values = values\n",
    "\n",
    "    def compute_grad(self):\n",
    "        return np.ones_like(self.params)\n",
    "\n",
    "    def async_update_loop(self, parameter_server):\n",
    "        \"\"\"Updates the parameter server and updates own weights.\"\"\"\n",
    "        for i in range(self.config[\"iterations\"]):\n",
    "            grads = self.compute_grad()\n",
    "            self.values += grads\n",
    "            self.params = ray.get(parameter_server.push.remote(self.keys,self.values))"
   ]
  },
  {
   "cell_type": "code",
   "execution_count": 8,
   "metadata": {},
   "outputs": [
    {
     "name": "stderr",
     "output_type": "stream",
     "text": [
      "2020-08-02 03:44:04,323\tINFO resource_spec.py:212 -- Starting Ray with 5.13 GiB memory available for workers and up to 2.58 GiB for objects. You can adjust these settings with ray.init(memory=<bytes>, object_store_memory=<bytes>).\n",
      "2020-08-02 03:44:04,548\tWARNING services.py:923 -- Redis failed to start, retrying now.\n",
      "2020-08-02 03:44:04,692\tINFO services.py:1165 -- View the Ray dashboard at \u001b[1m\u001b[32mlocalhost:8265\u001b[39m\u001b[22m\n"
     ]
    },
    {
     "name": "stdout",
     "output_type": "stream",
     "text": [
      "['1362', '235738']\n"
     ]
    }
   ],
   "source": [
    "ray.shutdown()\n",
    "import csv\n",
    "\n",
    "with open('realestate.csv', mode='r') as infile:\n",
    "    reader = csv.reader(infile)\n",
    "\n",
    "    for rows in reader:\n",
    "        size = rows[6]\n",
    "        price = rows[9]\n",
    "\n",
    "keys= [0,1]\n",
    "values = [size, price]\n",
    "\n",
    "ray.init()\n",
    "num_workers = 1\n",
    "\n",
    "weight = np.random.rand(12)\n",
    "# This launches our Housing parameter server process.\n",
    "ps = HousingPricesParameterServer.remote(keys, values)\n",
    "\n",
    "# This launches 4 workers\n",
    "workers = [Worker.remote(weight, keys, values,{\"iterations\": 1}) for i in range(4)]\n",
    "\n",
    "# Here, each workers will update the Parameter Server independently in\n",
    "# an asynchronous fashion.\n",
    "#futures = [w.async_update_loop.remote(ps) for w in workers]\n",
    "\n",
    "# This call blocks until all above workers have finished their loops.\n",
    "#ray.get(futures)\n",
    "# Print the weights\n",
    "print(ray.get(ps.pull.remote(keys)))"
   ]
  },
  {
   "cell_type": "code",
   "execution_count": null,
   "metadata": {},
   "outputs": [],
   "source": []
  },
  {
   "cell_type": "code",
   "execution_count": null,
   "metadata": {},
   "outputs": [],
   "source": []
  }
 ],
 "metadata": {
  "kernelspec": {
   "display_name": "Python 3",
   "language": "python",
   "name": "python3"
  },
  "language_info": {
   "codemirror_mode": {
    "name": "ipython",
    "version": 3
   },
   "file_extension": ".py",
   "mimetype": "text/x-python",
   "name": "python",
   "nbconvert_exporter": "python",
   "pygments_lexer": "ipython3",
   "version": "3.5.5"
  }
 },
 "nbformat": 4,
 "nbformat_minor": 4
}
