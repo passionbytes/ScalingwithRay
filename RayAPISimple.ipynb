{
 "cells": [
  {
   "cell_type": "code",
   "execution_count": 1,
   "metadata": {},
   "outputs": [],
   "source": [
    "import numpy as np\n",
    "import ray\n",
    "\n",
    "#Following is a regular function, no parrallelism\n",
    "def echoregular(input):\n",
    "    return input\n",
    "\n",
    "#Following is a regular function, no parrallelism\n",
    "def ohceregular(input):\n",
    "    return input[::-1]\n",
    "\n",
    "#Following is a RAY task/function, executed in parrallel\n",
    "@ray.remote\n",
    "def echoray(input):\n",
    "    return input\n",
    "\n",
    "#Following is a RAY task/function, executed in parrallel\n",
    "@ray.remote\n",
    "def ohceray(input):\n",
    "    return input[::-1]"
   ]
  },
  {
   "cell_type": "code",
   "execution_count": 2,
   "metadata": {},
   "outputs": [
    {
     "name": "stderr",
     "output_type": "stream",
     "text": [
      "2020-08-02 11:58:07,181\tINFO resource_spec.py:212 -- Starting Ray with 4.79 GiB memory available for workers and up to 2.4 GiB for objects. You can adjust these settings with ray.init(memory=<bytes>, object_store_memory=<bytes>).\n"
     ]
    },
    {
     "name": "stdout",
     "output_type": "stream",
     "text": [
      "Hello World from Ravi\n",
      "ivaR morf dlroW olleH\n"
     ]
    },
    {
     "name": "stderr",
     "output_type": "stream",
     "text": [
      "2020-08-02 11:58:07,412\tWARNING services.py:923 -- Redis failed to start, retrying now.\n",
      "2020-08-02 11:58:07,723\tINFO services.py:1165 -- View the Ray dashboard at \u001b[1m\u001b[32mlocalhost:8265\u001b[39m\u001b[22m\n"
     ]
    },
    {
     "name": "stdout",
     "output_type": "stream",
     "text": [
      "Hello World from Ravi\n",
      "ivaR morf dlroW olleH\n"
     ]
    }
   ],
   "source": [
    "#REGULAR WAY\n",
    "print(echoregular(\"Hello World from Ravi\"))\n",
    "\n",
    "#REGULAR WAY\n",
    "print(ohceregular(\"Hello World from Ravi\"))\n",
    "\n",
    "#INVOCATION WITH RAY\n",
    "\n",
    "ray.init(num_cpus=4, ignore_reinit_error=True)\n",
    "num_workers = 1\n",
    "val1 = echoray.remote(\"Hello World from Ravi\")\n",
    "val2 = ohceray.remote(\"Hello World from Ravi\")\n",
    "\n",
    "print(ray.get(val1))\n",
    "print(ray.get(val2))\n",
    "\n"
   ]
  },
  {
   "cell_type": "code",
   "execution_count": 5,
   "metadata": {},
   "outputs": [
    {
     "name": "stdout",
     "output_type": "stream",
     "text": [
      "Hello Hello Hello Hello \n"
     ]
    }
   ],
   "source": [
    " #These are executed one at a time, back-to-back.\n",
    " results = ''\n",
    " for _ in range(4):\n",
    "     results += echoregular(\"Hello \")\n",
    "print(results)\n"
   ]
  },
  {
   "cell_type": "code",
   "execution_count": 15,
   "metadata": {},
   "outputs": [
    {
     "name": "stdout",
     "output_type": "stream",
     "text": [
      "Hello Hello Hello Hello \n"
     ]
    }
   ],
   "source": [
    "# Executing these functions happens at the same time in the background, and we get the results using ray.get.\n",
    " results = ''\n",
    " for _ in range(4):\n",
    "     results += ray.get(echoray.remote(\"Hello \"))\n",
    " print(results)"
   ]
  },
  {
   "cell_type": "code",
   "execution_count": null,
   "metadata": {},
   "outputs": [],
   "source": []
  }
 ],
 "metadata": {
  "kernelspec": {
   "display_name": "Python 3",
   "language": "python",
   "name": "python3"
  },
  "language_info": {
   "codemirror_mode": {
    "name": "ipython",
    "version": 3
   },
   "file_extension": ".py",
   "mimetype": "text/x-python",
   "name": "python",
   "nbconvert_exporter": "python",
   "pygments_lexer": "ipython3",
   "version": "3.5.5"
  }
 },
 "nbformat": 4,
 "nbformat_minor": 4
}
